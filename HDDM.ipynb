{
  "nbformat": 4,
  "nbformat_minor": 0,
  "metadata": {
    "colab": {
      "name": "HDDM.ipynb",
      "provenance": [],
      "authorship_tag": "ABX9TyNLQzVoC9bhrJvDkBlpEjNj",
      "include_colab_link": true
    },
    "kernelspec": {
      "name": "python3",
      "display_name": "Python 3"
    }
  },
  "cells": [
    {
      "cell_type": "markdown",
      "metadata": {
        "id": "view-in-github",
        "colab_type": "text"
      },
      "source": [
        "<a href=\"https://colab.research.google.com/github/xuankai91/MResProject/blob/master/HDDM.ipynb\" target=\"_parent\"><img src=\"https://colab.research.google.com/assets/colab-badge.svg\" alt=\"Open In Colab\"/></a>"
      ]
    },
    {
      "cell_type": "code",
      "metadata": {
        "id": "Fckav0C4ARIh",
        "colab_type": "code",
        "colab": {
          "base_uri": "https://localhost:8080/",
          "height": 918
        },
        "outputId": "3ab19ff3-762b-4a2c-c755-1145b2082219"
      },
      "source": [
        "!pip install pymc\n",
        "!pip install kabuki\n",
        "!pip install hddm"
      ],
      "execution_count": 2,
      "outputs": [
        {
          "output_type": "stream",
          "text": [
            "Collecting pymc\n",
            "\u001b[?25l  Downloading https://files.pythonhosted.org/packages/37/81/9a222c38c65019de9ad5a1ee2448cc4a9b5f7a64eeaf246c77f81c0e6f94/pymc-2.3.8.tar.gz (385kB)\n",
            "\u001b[K     |████████████████████████████████| 389kB 3.5MB/s \n",
            "\u001b[?25hBuilding wheels for collected packages: pymc\n",
            "  Building wheel for pymc (setup.py) ... \u001b[?25l\u001b[?25hdone\n",
            "  Created wheel for pymc: filename=pymc-2.3.8-cp36-cp36m-linux_x86_64.whl size=1275944 sha256=a08c1f7ab9c137b304cc55fe806b5023e0c7b74fa8ec9b67d18d7af4f80afe57\n",
            "  Stored in directory: /root/.cache/pip/wheels/0b/a8/e7/8f3ba91a39294d538a92db052fd1fcba1fca74a58c8b022026\n",
            "Successfully built pymc\n",
            "Installing collected packages: pymc\n",
            "Successfully installed pymc-2.3.8\n",
            "Collecting kabuki\n",
            "\u001b[?25l  Downloading https://files.pythonhosted.org/packages/00/c7/2a9931d4b7febf449a21dc2d0290e77f56f648e3e8f80c978fc93d4dccb2/kabuki-0.6.3.tar.gz (44kB)\n",
            "\u001b[K     |████████████████████████████████| 51kB 1.9MB/s \n",
            "\u001b[?25hRequirement already satisfied: NumPy>=1.6.0 in /usr/local/lib/python3.6/dist-packages (from kabuki) (1.18.5)\n",
            "Requirement already satisfied: pymc>=2.3.6 in /usr/local/lib/python3.6/dist-packages (from kabuki) (2.3.8)\n",
            "Requirement already satisfied: pandas>=0.12.0 in /usr/local/lib/python3.6/dist-packages (from kabuki) (1.0.5)\n",
            "Requirement already satisfied: matplotlib>=1.0.0 in /usr/local/lib/python3.6/dist-packages (from kabuki) (3.2.2)\n",
            "Requirement already satisfied: python-dateutil>=2.6.1 in /usr/local/lib/python3.6/dist-packages (from pandas>=0.12.0->kabuki) (2.8.1)\n",
            "Requirement already satisfied: pytz>=2017.2 in /usr/local/lib/python3.6/dist-packages (from pandas>=0.12.0->kabuki) (2018.9)\n",
            "Requirement already satisfied: cycler>=0.10 in /usr/local/lib/python3.6/dist-packages (from matplotlib>=1.0.0->kabuki) (0.10.0)\n",
            "Requirement already satisfied: pyparsing!=2.0.4,!=2.1.2,!=2.1.6,>=2.0.1 in /usr/local/lib/python3.6/dist-packages (from matplotlib>=1.0.0->kabuki) (2.4.7)\n",
            "Requirement already satisfied: kiwisolver>=1.0.1 in /usr/local/lib/python3.6/dist-packages (from matplotlib>=1.0.0->kabuki) (1.2.0)\n",
            "Requirement already satisfied: six>=1.5 in /usr/local/lib/python3.6/dist-packages (from python-dateutil>=2.6.1->pandas>=0.12.0->kabuki) (1.12.0)\n",
            "Building wheels for collected packages: kabuki\n",
            "  Building wheel for kabuki (setup.py) ... \u001b[?25l\u001b[?25hdone\n",
            "  Created wheel for kabuki: filename=kabuki-0.6.3-cp36-none-any.whl size=36532 sha256=e639d53275f28e2af6cf5df6960e32c63c850f4fc96ecd0f49ec17ac52dec57c\n",
            "  Stored in directory: /root/.cache/pip/wheels/e7/b3/f0/f63833103cbccb322674dc63560e5aae52d46587ee402d8a7a\n",
            "Successfully built kabuki\n",
            "Installing collected packages: kabuki\n",
            "Successfully installed kabuki-0.6.3\n",
            "Collecting hddm\n",
            "\u001b[?25l  Downloading https://files.pythonhosted.org/packages/b8/dc/4c438cb6393331c1721119a23aa8bdcc227047351ad79ba064a6f5c05a09/HDDM-0.8.0.tar.gz (601kB)\n",
            "\u001b[K     |████████████████████████████████| 604kB 3.3MB/s \n",
            "\u001b[?25hRequirement already satisfied: NumPy>=1.6.0 in /usr/local/lib/python3.6/dist-packages (from hddm) (1.18.5)\n",
            "Requirement already satisfied: SciPy>=0.6.0 in /usr/local/lib/python3.6/dist-packages (from hddm) (1.4.1)\n",
            "Requirement already satisfied: kabuki>=0.6.0 in /usr/local/lib/python3.6/dist-packages (from hddm) (0.6.3)\n",
            "Requirement already satisfied: PyMC>=2.3.3 in /usr/local/lib/python3.6/dist-packages (from hddm) (2.3.8)\n",
            "Requirement already satisfied: pandas>=0.12.0 in /usr/local/lib/python3.6/dist-packages (from hddm) (1.0.5)\n",
            "Requirement already satisfied: patsy in /usr/local/lib/python3.6/dist-packages (from hddm) (0.5.1)\n",
            "Requirement already satisfied: matplotlib>=1.0.0 in /usr/local/lib/python3.6/dist-packages (from kabuki>=0.6.0->hddm) (3.2.2)\n",
            "Requirement already satisfied: pytz>=2017.2 in /usr/local/lib/python3.6/dist-packages (from pandas>=0.12.0->hddm) (2018.9)\n",
            "Requirement already satisfied: python-dateutil>=2.6.1 in /usr/local/lib/python3.6/dist-packages (from pandas>=0.12.0->hddm) (2.8.1)\n",
            "Requirement already satisfied: six in /usr/local/lib/python3.6/dist-packages (from patsy->hddm) (1.12.0)\n",
            "Requirement already satisfied: pyparsing!=2.0.4,!=2.1.2,!=2.1.6,>=2.0.1 in /usr/local/lib/python3.6/dist-packages (from matplotlib>=1.0.0->kabuki>=0.6.0->hddm) (2.4.7)\n",
            "Requirement already satisfied: cycler>=0.10 in /usr/local/lib/python3.6/dist-packages (from matplotlib>=1.0.0->kabuki>=0.6.0->hddm) (0.10.0)\n",
            "Requirement already satisfied: kiwisolver>=1.0.1 in /usr/local/lib/python3.6/dist-packages (from matplotlib>=1.0.0->kabuki>=0.6.0->hddm) (1.2.0)\n",
            "Building wheels for collected packages: hddm\n",
            "  Building wheel for hddm (setup.py) ... \u001b[?25l\u001b[?25hdone\n",
            "  Created wheel for hddm: filename=HDDM-0.8.0-cp36-cp36m-linux_x86_64.whl size=558596 sha256=31f22a0c207e2ab59ff138c6c7d5e1ac0e01651f44fb6677dc9fd1fff76077b3\n",
            "  Stored in directory: /root/.cache/pip/wheels/21/c3/c2/0f321d3c3838e33dedf21bebea05efb84e300f0e517d600883\n",
            "Successfully built hddm\n",
            "Installing collected packages: hddm\n",
            "Successfully installed hddm-0.8.0\n"
          ],
          "name": "stdout"
        }
      ]
    },
    {
      "cell_type": "code",
      "metadata": {
        "id": "HcgGVSKv9P5U",
        "colab_type": "code",
        "colab": {
          "base_uri": "https://localhost:8080/",
          "height": 34
        },
        "outputId": "ef1c00a7-9126-48fa-fab4-e0f14c133791"
      },
      "source": [
        "import hddm\n",
        "import os\n",
        "\n",
        "import pandas as pd\n",
        "import numpy as np\n",
        "import matplotlib.pyplot as plt\n",
        "import pickle\n",
        "\n",
        "print(hddm.__version__)\n",
        "\n",
        "from google.colab import drive\n",
        "drive.mount('/content/gdrive')"
      ],
      "execution_count": 27,
      "outputs": [
        {
          "output_type": "stream",
          "text": [
            "0.8.0\n"
          ],
          "name": "stdout"
        }
      ]
    },
    {
      "cell_type": "code",
      "metadata": {
        "id": "gKqaBsG7-J6e",
        "colab_type": "code",
        "colab": {}
      },
      "source": [
        "#define number of samples to run\n",
        "samples = 5000"
      ],
      "execution_count": 28,
      "outputs": []
    },
    {
      "cell_type": "code",
      "metadata": {
        "id": "2MByqe6i-wIp",
        "colab_type": "code",
        "colab": {
          "base_uri": "https://localhost:8080/",
          "height": 204
        },
        "outputId": "12083a49-7aa5-409d-935a-5001c13ebb61"
      },
      "source": [
        "url = 'https://raw.githubusercontent.com/xuankai91/MResProject/master/tofit_HDDM.csv'\n",
        "\n",
        "data = hddm.load_csv(url)\n",
        "\n",
        "data.head(5)"
      ],
      "execution_count": 29,
      "outputs": [
        {
          "output_type": "execute_result",
          "data": {
            "text/html": [
              "<div>\n",
              "<style scoped>\n",
              "    .dataframe tbody tr th:only-of-type {\n",
              "        vertical-align: middle;\n",
              "    }\n",
              "\n",
              "    .dataframe tbody tr th {\n",
              "        vertical-align: top;\n",
              "    }\n",
              "\n",
              "    .dataframe thead th {\n",
              "        text-align: right;\n",
              "    }\n",
              "</style>\n",
              "<table border=\"1\" class=\"dataframe\">\n",
              "  <thead>\n",
              "    <tr style=\"text-align: right;\">\n",
              "      <th></th>\n",
              "      <th>subj_idx</th>\n",
              "      <th>stim</th>\n",
              "      <th>stim_PM</th>\n",
              "      <th>stim_noPM</th>\n",
              "      <th>rt</th>\n",
              "      <th>response</th>\n",
              "      <th>trialno</th>\n",
              "      <th>TBdist</th>\n",
              "      <th>TSdist</th>\n",
              "      <th>SBdist</th>\n",
              "      <th>Helpful</th>\n",
              "    </tr>\n",
              "  </thead>\n",
              "  <tbody>\n",
              "    <tr>\n",
              "      <th>0</th>\n",
              "      <td>1</td>\n",
              "      <td>Rem</td>\n",
              "      <td>PM</td>\n",
              "      <td>noPM</td>\n",
              "      <td>0.74200</td>\n",
              "      <td>1</td>\n",
              "      <td>5</td>\n",
              "      <td>0.025194</td>\n",
              "      <td>0.083333</td>\n",
              "      <td>0.10853</td>\n",
              "      <td>7</td>\n",
              "    </tr>\n",
              "    <tr>\n",
              "      <th>1</th>\n",
              "      <td>1</td>\n",
              "      <td>Rem</td>\n",
              "      <td>PM</td>\n",
              "      <td>noPM</td>\n",
              "      <td>1.14910</td>\n",
              "      <td>0</td>\n",
              "      <td>6</td>\n",
              "      <td>0.025194</td>\n",
              "      <td>0.166670</td>\n",
              "      <td>0.14147</td>\n",
              "      <td>7</td>\n",
              "    </tr>\n",
              "    <tr>\n",
              "      <th>2</th>\n",
              "      <td>1</td>\n",
              "      <td>Rem</td>\n",
              "      <td>PM</td>\n",
              "      <td>noPM</td>\n",
              "      <td>0.56424</td>\n",
              "      <td>1</td>\n",
              "      <td>7</td>\n",
              "      <td>0.025194</td>\n",
              "      <td>0.250000</td>\n",
              "      <td>0.22481</td>\n",
              "      <td>7</td>\n",
              "    </tr>\n",
              "    <tr>\n",
              "      <th>3</th>\n",
              "      <td>1</td>\n",
              "      <td>Rem</td>\n",
              "      <td>PM</td>\n",
              "      <td>noPM</td>\n",
              "      <td>0.81039</td>\n",
              "      <td>1</td>\n",
              "      <td>8</td>\n",
              "      <td>0.025194</td>\n",
              "      <td>0.083333</td>\n",
              "      <td>0.10853</td>\n",
              "      <td>7</td>\n",
              "    </tr>\n",
              "    <tr>\n",
              "      <th>4</th>\n",
              "      <td>1</td>\n",
              "      <td>Rem</td>\n",
              "      <td>PM</td>\n",
              "      <td>noPM</td>\n",
              "      <td>0.54966</td>\n",
              "      <td>1</td>\n",
              "      <td>9</td>\n",
              "      <td>0.025194</td>\n",
              "      <td>0.083333</td>\n",
              "      <td>0.10853</td>\n",
              "      <td>7</td>\n",
              "    </tr>\n",
              "  </tbody>\n",
              "</table>\n",
              "</div>"
            ],
            "text/plain": [
              "   subj_idx stim stim_PM stim_noPM  ...    TBdist    TSdist   SBdist  Helpful\n",
              "0         1  Rem      PM      noPM  ...  0.025194  0.083333  0.10853        7\n",
              "1         1  Rem      PM      noPM  ...  0.025194  0.166670  0.14147        7\n",
              "2         1  Rem      PM      noPM  ...  0.025194  0.250000  0.22481        7\n",
              "3         1  Rem      PM      noPM  ...  0.025194  0.083333  0.10853        7\n",
              "4         1  Rem      PM      noPM  ...  0.025194  0.083333  0.10853        7\n",
              "\n",
              "[5 rows x 11 columns]"
            ]
          },
          "metadata": {
            "tags": []
          },
          "execution_count": 29
        }
      ]
    },
    {
      "cell_type": "code",
      "metadata": {
        "id": "fVJh8BhH_cvd",
        "colab_type": "code",
        "colab": {
          "base_uri": "https://localhost:8080/",
          "height": 621
        },
        "outputId": "c1d973c5-ae9e-40fb-8871-33125606c17c"
      },
      "source": [
        "data = hddm.utils.flip_errors(data)\n",
        "\n",
        "fig = plt.figure(figsize=(15,10))\n",
        "ax = fig.add_subplot(111, xlabel='RT', ylabel='count', title='RT distributions')\n",
        "for i, subj_data in data.groupby('subj_idx'):\n",
        "    subj_data.rt.hist(bins=20, histtype='step', ax=ax)\n",
        "\n",
        "#plt.savefig('./figures/hddm_RThist.png',dpi=200)"
      ],
      "execution_count": 25,
      "outputs": [
        {
          "output_type": "display_data",
          "data": {
            "image/png": "[encoded data removed]",
            "text/plain": [
              "<Figure size 1080x720 with 1 Axes>"
            ]
          },
          "metadata": {
            "tags": [],
            "needs_background": "light"
          }
        }
      ]
    },
    {
      "cell_type": "code",
      "metadata": {
        "id": "4sczMjKS_gqD",
        "colab_type": "code",
        "colab": {
          "base_uri": "https://localhost:8080/",
          "height": 85
        },
        "outputId": "2322817b-df43-4cda-f269-ce8c2559386d"
      },
      "source": [
        "m_fixed = hddm.HDDM(data,p_outlier=.05)\n",
        "m_fixed.find_starting_values()\n",
        "\n",
        "m_fixed.sample(samples, burn=samples/10)\n",
        "\n",
        "print(m_fixed.dic)\n",
        "print(m_fixed.mc.BPIC)"
      ],
      "execution_count": 31,
      "outputs": [
        {
          "output_type": "stream",
          "text": [
            "/usr/local/lib/python3.6/dist-packages/scipy/optimize/optimize.py:1985: RuntimeWarning: invalid value encountered in double_scalars\n",
            "  tmp2 = (x - v) * (fx - fw)\n"
          ],
          "name": "stderr"
        },
        {
          "output_type": "stream",
          "text": [
            " [-----------------100%-----------------] 5001 of 5000 complete in 3443.7 sec-5485.809496683448\n",
            "-5378.931133896474\n"
          ],
          "name": "stdout"
        }
      ]
    },
    {
      "cell_type": "code",
      "metadata": {
        "id": "P7jiy3eTCNt_",
        "colab_type": "code",
        "colab": {
          "base_uri": "https://localhost:8080/",
          "height": 34
        },
        "outputId": "c9f5c980-1696-40ed-e60a-4ba48293a9bc"
      },
      "source": [
        "type(m_fixed.gen_stats())"
      ],
      "execution_count": 33,
      "outputs": [
        {
          "output_type": "execute_result",
          "data": {
            "text/plain": [
              "pandas.core.frame.DataFrame"
            ]
          },
          "metadata": {
            "tags": []
          },
          "execution_count": 33
        }
      ]
    },
    {
      "cell_type": "code",
      "metadata": {
        "id": "ExbcPmUHSwCW",
        "colab_type": "code",
        "colab": {}
      },
      "source": [
        ""
      ],
      "execution_count": null,
      "outputs": []
    }
  ]
}